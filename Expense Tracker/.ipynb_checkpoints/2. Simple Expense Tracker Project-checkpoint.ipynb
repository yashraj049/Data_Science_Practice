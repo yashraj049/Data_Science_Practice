{
 "cells": [
  {
   "cell_type": "code",
   "execution_count": 1,
   "id": "6793263e-05a7-4622-84f4-5befeee306d3",
   "metadata": {},
   "outputs": [],
   "source": [
    "import pandas as pd\n",
    "import numpy as np"
   ]
  },
  {
   "cell_type": "code",
   "execution_count": 2,
   "id": "6a23713f-45cd-4359-8c52-9759aff0d5ed",
   "metadata": {},
   "outputs": [
    {
     "data": {
      "text/html": [
       "<div>\n",
       "<style scoped>\n",
       "    .dataframe tbody tr th:only-of-type {\n",
       "        vertical-align: middle;\n",
       "    }\n",
       "\n",
       "    .dataframe tbody tr th {\n",
       "        vertical-align: top;\n",
       "    }\n",
       "\n",
       "    .dataframe thead th {\n",
       "        text-align: right;\n",
       "    }\n",
       "</style>\n",
       "<table border=\"1\" class=\"dataframe\">\n",
       "  <thead>\n",
       "    <tr style=\"text-align: right;\">\n",
       "      <th></th>\n",
       "      <th>Date</th>\n",
       "      <th>Category</th>\n",
       "      <th>Amount</th>\n",
       "    </tr>\n",
       "  </thead>\n",
       "  <tbody>\n",
       "    <tr>\n",
       "      <th>0</th>\n",
       "      <td>01-07-25</td>\n",
       "      <td>Food</td>\n",
       "      <td>200</td>\n",
       "    </tr>\n",
       "    <tr>\n",
       "      <th>1</th>\n",
       "      <td>01-07-25</td>\n",
       "      <td>Transport</td>\n",
       "      <td>50</td>\n",
       "    </tr>\n",
       "    <tr>\n",
       "      <th>2</th>\n",
       "      <td>02-07-25</td>\n",
       "      <td>Entertainment</td>\n",
       "      <td>120</td>\n",
       "    </tr>\n",
       "    <tr>\n",
       "      <th>3</th>\n",
       "      <td>03-07-25</td>\n",
       "      <td>Food</td>\n",
       "      <td>180</td>\n",
       "    </tr>\n",
       "    <tr>\n",
       "      <th>4</th>\n",
       "      <td>04-07-25</td>\n",
       "      <td>Utilities</td>\n",
       "      <td>90</td>\n",
       "    </tr>\n",
       "  </tbody>\n",
       "</table>\n",
       "</div>"
      ],
      "text/plain": [
       "       Date       Category  Amount\n",
       "0  01-07-25           Food     200\n",
       "1  01-07-25      Transport      50\n",
       "2  02-07-25  Entertainment     120\n",
       "3  03-07-25           Food     180\n",
       "4  04-07-25      Utilities      90"
      ]
     },
     "execution_count": 2,
     "metadata": {},
     "output_type": "execute_result"
    }
   ],
   "source": [
    "df = pd.read_csv(\"expenses.csv\")\n",
    "df2 = df\n",
    "df2"
   ]
  },
  {
   "cell_type": "code",
   "execution_count": 6,
   "id": "cd2d9c1d-f0ad-45a3-8065-b4c08bf938cd",
   "metadata": {},
   "outputs": [
    {
     "name": "stdout",
     "output_type": "stream",
     "text": [
      "Total sum of All Expenses: 640\n",
      "\n",
      "Category-wise sum:\n",
      " Category\n",
      "Entertainment    120\n",
      "Food             380\n",
      "Transport         50\n",
      "Utilities         90\n",
      "Name: Amount, dtype: int64\n"
     ]
    }
   ],
   "source": [
    "# Calculate Total and Category-wise Expenses \n",
    "\n",
    "# Total Expenses\n",
    "\n",
    "Total = df['Amount'].sum()\n",
    "print(f\"Total sum of All Expenses: {Total}\")\n",
    "\n",
    "# Expenses by Category\n",
    "\n",
    "Category_Total = df.groupby('Category')['Amount'].sum()\n",
    "print(f\"\\nCategory-wise sum:\\n {Category_Total}\")"
   ]
  },
  {
   "cell_type": "code",
   "execution_count": 12,
   "id": "1b9a4771-d317-46de-9962-dfc182f96f54",
   "metadata": {},
   "outputs": [
    {
     "name": "stdout",
     "output_type": "stream",
     "text": [
      "Highest Spend Date: 01-07-25 and Amount: 250\n"
     ]
    }
   ],
   "source": [
    " # Identify Dates with Highest Expenses\n",
    "\n",
    "daily_totals = df.groupby('Date')['Amount'].sum()\n",
    "peak_date = daily_totals.idxmax()\n",
    "peak_amount = daily_totals.max()\n",
    "print(f\"Highest Spend Date: {peak_date} and Amount: {peak_amount}\")"
   ]
  },
  {
   "cell_type": "code",
   "execution_count": 13,
   "id": "2213cc59-abc4-4029-bd65-670e5877210e",
   "metadata": {},
   "outputs": [],
   "source": [
    "# Handle Missing Values\n",
    "\n",
    "df = df.fillna({'Amount':0, 'Category':'Unknown'})"
   ]
  },
  {
   "cell_type": "code",
   "execution_count": 14,
   "id": "aa0a97dd-1e78-44ab-aa14-f4e5278326d2",
   "metadata": {},
   "outputs": [
    {
     "data": {
      "text/html": [
       "<div>\n",
       "<style scoped>\n",
       "    .dataframe tbody tr th:only-of-type {\n",
       "        vertical-align: middle;\n",
       "    }\n",
       "\n",
       "    .dataframe tbody tr th {\n",
       "        vertical-align: top;\n",
       "    }\n",
       "\n",
       "    .dataframe thead th {\n",
       "        text-align: right;\n",
       "    }\n",
       "</style>\n",
       "<table border=\"1\" class=\"dataframe\">\n",
       "  <thead>\n",
       "    <tr style=\"text-align: right;\">\n",
       "      <th></th>\n",
       "      <th>Date</th>\n",
       "      <th>Category</th>\n",
       "      <th>Amount</th>\n",
       "    </tr>\n",
       "  </thead>\n",
       "  <tbody>\n",
       "    <tr>\n",
       "      <th>0</th>\n",
       "      <td>01-07-25</td>\n",
       "      <td>Food</td>\n",
       "      <td>200</td>\n",
       "    </tr>\n",
       "    <tr>\n",
       "      <th>1</th>\n",
       "      <td>01-07-25</td>\n",
       "      <td>Transport</td>\n",
       "      <td>50</td>\n",
       "    </tr>\n",
       "    <tr>\n",
       "      <th>2</th>\n",
       "      <td>02-07-25</td>\n",
       "      <td>Entertainment</td>\n",
       "      <td>120</td>\n",
       "    </tr>\n",
       "    <tr>\n",
       "      <th>3</th>\n",
       "      <td>03-07-25</td>\n",
       "      <td>Food</td>\n",
       "      <td>180</td>\n",
       "    </tr>\n",
       "    <tr>\n",
       "      <th>4</th>\n",
       "      <td>04-07-25</td>\n",
       "      <td>Utilities</td>\n",
       "      <td>90</td>\n",
       "    </tr>\n",
       "  </tbody>\n",
       "</table>\n",
       "</div>"
      ],
      "text/plain": [
       "       Date       Category  Amount\n",
       "0  01-07-25           Food     200\n",
       "1  01-07-25      Transport      50\n",
       "2  02-07-25  Entertainment     120\n",
       "3  03-07-25           Food     180\n",
       "4  04-07-25      Utilities      90"
      ]
     },
     "execution_count": 14,
     "metadata": {},
     "output_type": "execute_result"
    }
   ],
   "source": [
    "df"
   ]
  },
  {
   "cell_type": "code",
   "execution_count": 19,
   "id": "e0794230-bf7e-4a73-a43d-6bbc3d8e1e14",
   "metadata": {},
   "outputs": [],
   "source": [
    "# Export Monthly Summary\n",
    "\n",
    "df['Date'] = pd.to_datetime(df['Date'])\n",
    "df['Month'] = df['Date'].dt.to_period('M')\n",
    "monthly_totals = df.groupby('Month')['Amount'].sum()\n",
    "monthly_totals.to_csv('monthly_expense_summary.csv')\n"
   ]
  },
  {
   "cell_type": "code",
   "execution_count": null,
   "id": "7c651d56-a738-4385-aabd-b2ad72fdd9ea",
   "metadata": {},
   "outputs": [],
   "source": []
  }
 ],
 "metadata": {
  "kernelspec": {
   "display_name": "Python [conda env:base] *",
   "language": "python",
   "name": "conda-base-py"
  },
  "language_info": {
   "codemirror_mode": {
    "name": "ipython",
    "version": 3
   },
   "file_extension": ".py",
   "mimetype": "text/x-python",
   "name": "python",
   "nbconvert_exporter": "python",
   "pygments_lexer": "ipython3",
   "version": "3.12.7"
  }
 },
 "nbformat": 4,
 "nbformat_minor": 5
}
