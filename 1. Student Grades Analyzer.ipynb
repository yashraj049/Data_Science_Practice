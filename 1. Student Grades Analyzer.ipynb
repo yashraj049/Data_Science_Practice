{
 "cells": [
  {
   "cell_type": "code",
   "execution_count": 1,
   "id": "3078bef0-e3b5-4807-b2ee-b4852d8fd7ec",
   "metadata": {},
   "outputs": [],
   "source": [
    "import numpy as np\n",
    "import pandas as pd"
   ]
  },
  {
   "cell_type": "code",
   "execution_count": 2,
   "id": "7b9e9882-7cdc-4d5b-bb94-95c1cf0b89f6",
   "metadata": {},
   "outputs": [
    {
     "name": "stdout",
     "output_type": "stream",
     "text": [
      "      Name  Grade\n",
      "0    Tejuu     90\n",
      "1  Yashraj     90\n",
      "2   Sudeep     92\n",
      "3    Omkar     86\n",
      "4    Sahil     85\n"
     ]
    }
   ],
   "source": [
    "df = pd.read_csv(\"grades.csv\")    # Reading the csv file\n",
    "print(df)"
   ]
  },
  {
   "cell_type": "code",
   "execution_count": 3,
   "id": "1c5de4e6-62eb-46d8-ace2-799d2bcd10e5",
   "metadata": {},
   "outputs": [
    {
     "name": "stdout",
     "output_type": "stream",
     "text": [
      "Average Grades : 88.6\n",
      "Minimum Grades : 85\n",
      "Maximum Grades : 92\n"
     ]
    }
   ],
   "source": [
    "# Calculate Average, Minimum, and Maximum Grades\n",
    "\n",
    "Average = df['Grade'].mean()\n",
    "Minimum = df['Grade'].min()\n",
    "Maximum = df['Grade'].max()\n",
    "\n",
    "print(f\"Average Grades : {Average}\")\n",
    "print(f\"Minimum Grades : {Minimum}\")\n",
    "print(f\"Maximum Grades : {Maximum}\")"
   ]
  },
  {
   "cell_type": "code",
   "execution_count": 4,
   "id": "be5ffda0-d8d6-403c-a828-35e5417fde76",
   "metadata": {},
   "outputs": [
    {
     "name": "stdout",
     "output_type": "stream",
     "text": [
      "\n",
      "Above Average Students are\n",
      "      Name  Grade\n",
      "0    Tejuu     90\n",
      "1  Yashraj     90\n",
      "2   Sudeep     92\n",
      "\n",
      "Below Average Students are\n",
      "    Name  Grade\n",
      "3  Omkar     86\n",
      "4  Sahil     85\n"
     ]
    }
   ],
   "source": [
    " # Identify Students Above/Below Average\n",
    "\n",
    "Above_avg = df[df['Grade'] > Average] \n",
    "Below_avg = df[df['Grade'] < Average]\n",
    "\n",
    "print(f\"\\nAbove Average Students are\\n{Above_avg}\")\n",
    "print(f\"\\nBelow Average Students are\\n{Below_avg}\")"
   ]
  },
  {
   "cell_type": "code",
   "execution_count": 5,
   "id": "08e33915-2a07-4ee7-8255-cee57f0b9e05",
   "metadata": {},
   "outputs": [
    {
     "name": "stdout",
     "output_type": "stream",
     "text": [
      "      Name  Grade\n",
      "2   Sudeep     92\n",
      "0    Tejuu     90\n",
      "1  Yashraj     90\n",
      "3    Omkar     86\n",
      "4    Sahil     85\n"
     ]
    }
   ],
   "source": [
    " # Sort Students by Grades\n",
    "\n",
    "sorted_stud = df.sort_values(by = 'Grade', ascending = False )\n",
    "print(sorted_stud)"
   ]
  },
  {
   "cell_type": "code",
   "execution_count": 6,
   "id": "a120a742-9bfe-4c11-afc5-5bc672f0745a",
   "metadata": {},
   "outputs": [],
   "source": [
    "# Save Results to a New CSV\n",
    "\n",
    "sorted_stud.to_csv('Sorted Student.csv')"
   ]
  },
  {
   "cell_type": "code",
   "execution_count": null,
   "id": "e647a03f-ea8a-4d67-9c58-4806d87c67d2",
   "metadata": {},
   "outputs": [],
   "source": []
  }
 ],
 "metadata": {
  "kernelspec": {
   "display_name": "Python [conda env:base] *",
   "language": "python",
   "name": "conda-base-py"
  },
  "language_info": {
   "codemirror_mode": {
    "name": "ipython",
    "version": 3
   },
   "file_extension": ".py",
   "mimetype": "text/x-python",
   "name": "python",
   "nbconvert_exporter": "python",
   "pygments_lexer": "ipython3",
   "version": "3.12.7"
  }
 },
 "nbformat": 4,
 "nbformat_minor": 5
}
